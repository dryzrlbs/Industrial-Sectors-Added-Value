{
 "cells": [
  {
   "cell_type": "code",
   "execution_count": 1,
   "id": "c368771c",
   "metadata": {},
   "outputs": [],
   "source": [
    "import pandas\n",
    "import pandas as pd\n",
    "from glob2 import glob\n",
    "import copy"
   ]
  },
  {
   "cell_type": "code",
   "execution_count": null,
   "id": "1b650405",
   "metadata": {},
   "outputs": [],
   "source": [
    "a=glob(\"C:...../OECD_ICIO/**/*.csv\")"
   ]
  },
  {
   "cell_type": "code",
   "execution_count": 3,
   "id": "30825b35",
   "metadata": {},
   "outputs": [
    {
     "data": {
      "text/plain": [
       "'ICIO2021_2005'"
      ]
     },
     "execution_count": 3,
     "metadata": {},
     "output_type": "execute_result"
    }
   ],
   "source": [
    "a[0][-17:-4]"
   ]
  },
  {
   "cell_type": "code",
   "execution_count": null,
   "id": "991bcb25",
   "metadata": {},
   "outputs": [],
   "source": [
    "#First, we took the rows that had cn1, cn2 and chn, we made the index values ​​the same so that they would be after the first 4 digits, i.e. country codes,\n",
    "#We combined the same codes with groupby, then we changed the index names with the index names of chn. The same process was done for mx1, mx2 and mex. The process performed for rows was also done for\n",
    "#columns, the only difference was that we added a transpose for groupby. We are using it as a function because we will do the same process for all\n",
    "#years.\n",
    "\n",
    "def io_merger2(columns, dframe):\n",
    "    if columns==False:\n",
    "        \n",
    "        df2=dframe.loc[[m for m in dframe.index.tolist() if \"CN1\" in m or \"CN2\"in m or \"CHN\" in m],:]\n",
    "        df2.index=[m[4:] for m in df2.index.tolist()]\n",
    "        dfdf=df2.groupby(df2.index.tolist(), axis=0).sum()\n",
    "        dfdf.index=dframe.loc[[m for m in dframe.index.tolist() if \"CHN\" in m],:].index.tolist()\n",
    "        \n",
    "        df3=dframe.loc[[m for m in dframe.index.tolist() if \"MX1\" in m or \"MX2\" in m or \"MEX\" in m],:]\n",
    "        df3.index=[m[4:] for m in df3.index.tolist()]\n",
    "        dfdf2=df3.groupby(df3.index.tolist(), axis=0).sum()\n",
    "        dfdf2.index=dframe.loc[[m for m in dframe.index.tolist() if \"MEX\" in m],:].index.tolist()\n",
    "        \n",
    "        df4=pandas.concat([dfdf,dfdf2])\n",
    "\n",
    "        return(df4)\n",
    "        \n",
    "    else:\n",
    "        \n",
    "        df2=dframe.loc[:,[m for m in dframe.columns.tolist() if \"CN1\" in m or \"CN2\"in m or \"CHN\" in m]]\n",
    "        df2.columns=[m[4:] for m in df2.columns.tolist()]\n",
    "        df_t=df2.transpose()\n",
    "        dfdf=df_t.groupby(df_t.index.tolist(), axis=0).sum().transpose()\n",
    "        dfdf.columns=dframe.loc[:,[m for m in dframe.columns.tolist() if \"CHN\" in m]].columns.tolist()\n",
    "        \n",
    "        df3=dframe.loc[:,[m for m in dframe.columns.tolist() if \"MX1\" in m or \"MX2\" in m or \"MEX\" in m]]\n",
    "        df3.columns=[m[4:] for m in df3.columns.tolist()]\n",
    "        df_t2=df3.transpose()\n",
    "        dfdf2=df_t2.groupby(df_t2.index.tolist(), axis=0).sum().transpose()\n",
    "        dfdf2.columns=dframe.loc[:,[m for m in dframe.columns.tolist() if \"MEX\" in m]].columns.tolist()\n",
    "        \n",
    "        \n",
    "        df4=pandas.concat([dfdf,dfdf2], axis=1)\n",
    "        \n",
    "        return(df4)\n",
    "        "
   ]
  },
  {
   "cell_type": "code",
   "execution_count": null,
   "id": "f4c5ac87",
   "metadata": {
    "scrolled": true
   },
   "outputs": [
    {
     "name": "stdout",
     "output_type": "stream",
     "text": [
      "2005\n",
      "2005\n",
      "785827.7251350001 785827.725135\n",
      "54725.636856 54725.636856\n",
      "32.625662 32.625662\n",
      "2006\n",
      "2006\n",
      "826733.524908 826733.5249079999\n",
      "52840.521032 52840.521032\n",
      "40.467483 40.467483\n",
      "2007\n",
      "2007\n",
      "1080544.2211530001 1080544.221153\n",
      "85855.564965 85855.564965\n",
      "41.080042 41.080042\n",
      "2008\n",
      "2008\n",
      "1361217.5444760001 1361217.544476\n",
      "98073.467003 98073.467003\n",
      "64.369243 64.369243\n",
      "2009\n",
      "2009\n",
      "1469116.7543990002 1469116.7543990002\n",
      "101303.812941 101303.812941\n",
      "52.983422 52.983422\n",
      "2010\n",
      "2010\n",
      "1687554.3465850004 1687554.346585\n",
      "108251.660321 108251.660321\n",
      "61.911971 61.911971\n",
      "2011\n",
      "2011\n",
      "2168993.6548280003 2168993.6548280003\n",
      "159170.128119 159170.128119\n",
      "56.992118000000005 56.992118000000005\n",
      "2012\n",
      "2012\n",
      "2530906.9223129996 2530906.9223130005\n",
      "197374.574403 197374.574403\n",
      "57.612655 57.612655\n",
      "2013\n",
      "2013\n",
      "2852863.266593 2852863.266593\n",
      "225775.533997 225775.533997\n",
      "44.160388000000005 44.160388000000005\n",
      "2014\n",
      "2014\n",
      "3153128.51663 3153128.5166300004\n",
      "246001.070237 246001.070237\n",
      "56.950718 56.950718\n",
      "2015\n",
      "2015\n",
      "3383325.7685419996 3383325.7685419996\n",
      "255295.97191 255295.97191\n",
      "82.68032199999999 82.68032199999999\n",
      "2016\n",
      "2016\n",
      "3236557.637271 3236557.637271\n",
      "273796.11037 273796.11037\n",
      "65.974839 65.974839\n",
      "2017\n",
      "2017\n",
      "3378949.870844 3378949.8708440005\n",
      "321924.079408 321924.079408\n",
      "65.324418 65.324418\n",
      "2018\n",
      "2018\n",
      "3826201.6791050006 3826201.679105\n",
      "401604.444287 401604.444287\n",
      "91.057933 91.057933\n"
     ]
    }
   ],
   "source": [
    "\n",
    "for years in a:\n",
    "    \n",
    "    print(years[-8:-4])\n",
    "    df=pandas.read_csv(years, index_col=0)\n",
    "    \n",
    "    df2=copy.deepcopy(df)\n",
    "    \n",
    "   \n",
    "    df_rows=io_merger2(columns=False, dframe=df)\n",
    "    cols=df.columns.tolist()\n",
    "    df.loc[df.index.isin(df_rows.index), cols] = df_rows[cols]\n",
    "\n",
    "    \n",
    "    df_cols=io_merger2(columns=True, dframe=df)\n",
    "    rows=df.index.tolist()\n",
    "    df.loc[rows, df.columns.isin(df_cols.columns)] = df_cols.loc[rows,:]\n",
    "\n",
    "  \n",
    "    df_son3=df.loc[[m for m in df.index.tolist() if \"CN1\" not in m and \"MX1\" not in m and \"CN2\" not in m and \"MX2\" not in m],[m for m in df.columns.tolist() if \"CN1\" not in m and \"MX1\" not in m and \"CN2\" not in m and \"MX2\" not in m]]\n",
    "    \n",
    "    print(years[-8:-4])\n",
    "    print(df_son3.loc[\"CHN_01T02\",:].sum(),df2.loc[[m for m in df2.index.tolist() if \"CN1_01T02\" in m or \"CN2_01T02\" in m or \"CHN_01T02\" in m],:].sum().sum())\n",
    "    print(df_son3.loc[\"CHN_01T02\",\"CHN_01T02\"].sum(),df2.loc[[m for m in df2.index.tolist() if \"CN1_01T02\" in m or \"CN2_01T02\" in m or \"CHN_01T02\" in m],[m for m in df2.columns.tolist() if \"CN1_01T02\" in m or \"CN2_01T02\" in m or \"CHN_01T02\" in m]].sum().sum())\n",
    "    print(df_son3.loc[\"CHN_01T02\",\"MEX_10T12\"].sum(),df2.loc[[m for m in df2.index.tolist() if \"CN1_01T02\" in m or \"CN2_01T02\" in m or \"CHN_01T02\" in m],[m for m in df2.columns.tolist() if \"MX1_10T12\" in m or \"MX2_10T12\" in m or \"MEX_10T12\" in m]].sum().sum())\n",
    "    \n",
    "    df_son3.to_csv(\"D:/Kaynaklar_Master/OECD_ICIO/all_years_chn_mex_adjusted/\" + years[-17:-4] + \".csv\")"
   ]
  }
 ],
 "metadata": {
  "kernelspec": {
   "display_name": "Python 3 (ipykernel)",
   "language": "python",
   "name": "python3"
  },
  "language_info": {
   "codemirror_mode": {
    "name": "ipython",
    "version": 3
   },
   "file_extension": ".py",
   "mimetype": "text/x-python",
   "name": "python",
   "nbconvert_exporter": "python",
   "pygments_lexer": "ipython3",
   "version": "3.7.4"
  }
 },
 "nbformat": 4,
 "nbformat_minor": 5
}
